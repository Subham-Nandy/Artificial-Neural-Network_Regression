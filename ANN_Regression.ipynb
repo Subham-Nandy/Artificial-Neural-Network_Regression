{
  "nbformat": 4,
  "nbformat_minor": 0,
  "metadata": {
    "colab": {
      "name": "ANN_Regression.ipynb",
      "provenance": []
    },
    "kernelspec": {
      "name": "python3",
      "display_name": "Python 3"
    }
  },
  "cells": [
    {
      "cell_type": "code",
      "metadata": {
        "colab": {
          "base_uri": "https://localhost:8080/"
        },
        "id": "EjX0rsg7IcTG",
        "outputId": "3c6b6d7f-8ab3-4366-9564-cb2c8dff342f"
      },
      "source": [
        "from google.colab import drive\r\n",
        "drive.mount(\"/content/drive\",force_remount=\"TRUE\")"
      ],
      "execution_count": 42,
      "outputs": [
        {
          "output_type": "stream",
          "text": [
            "Mounted at /content/drive\n"
          ],
          "name": "stdout"
        }
      ]
    },
    {
      "cell_type": "code",
      "metadata": {
        "id": "kkd9G2VUI6iY"
      },
      "source": [
        "import numpy as np\r\n",
        "import pandas as pd\r\n",
        "import tensorflow as tf"
      ],
      "execution_count": 43,
      "outputs": []
    },
    {
      "cell_type": "code",
      "metadata": {
        "colab": {
          "base_uri": "https://localhost:8080/",
          "height": 35
        },
        "id": "9emL8MCjJPyB",
        "outputId": "e6d34b80-0003-4d1f-db5f-a9dc3eb475c4"
      },
      "source": [
        "tf.__version__"
      ],
      "execution_count": 44,
      "outputs": [
        {
          "output_type": "execute_result",
          "data": {
            "application/vnd.google.colaboratory.intrinsic+json": {
              "type": "string"
            },
            "text/plain": [
              "'2.4.0'"
            ]
          },
          "metadata": {
            "tags": []
          },
          "execution_count": 44
        }
      ]
    },
    {
      "cell_type": "markdown",
      "metadata": {
        "id": "TN_517mKJljc"
      },
      "source": [
        "#Importing Dataset"
      ]
    },
    {
      "cell_type": "code",
      "metadata": {
        "id": "w53Be2e8LfUR"
      },
      "source": [
        "df = pd.read_excel(\"/content/drive/MyDrive/Machine Learning A-Z (Codes and Datasets)-20200808T101226Z-001/Machine Learning A-Z (Codes and Datasets)/Part 8 - Deep Learning/Section 39 - Artificial Neural Networks (ANN)/Artificial_Neural_Network for Regression/Final Folder/Dataset/Folds5x2_pp.xlsx\")"
      ],
      "execution_count": 45,
      "outputs": []
    },
    {
      "cell_type": "code",
      "metadata": {
        "colab": {
          "base_uri": "https://localhost:8080/"
        },
        "id": "9W1QhIRdMgqG",
        "outputId": "9ced7927-b5c2-4e99-91bd-9d972806cf6e"
      },
      "source": [
        "x= df.iloc[:,:-1].values\r\n",
        "y= df.iloc[:,-1].values\r\n",
        "print(x)\r\n",
        "print(y)"
      ],
      "execution_count": 46,
      "outputs": [
        {
          "output_type": "stream",
          "text": [
            "[[  14.96   41.76 1024.07   73.17]\n",
            " [  25.18   62.96 1020.04   59.08]\n",
            " [   5.11   39.4  1012.16   92.14]\n",
            " ...\n",
            " [  31.32   74.33 1012.92   36.48]\n",
            " [  24.48   69.45 1013.86   62.39]\n",
            " [  21.6    62.52 1017.23   67.87]]\n",
            "[463.26 444.37 488.56 ... 429.57 435.74 453.28]\n"
          ],
          "name": "stdout"
        }
      ]
    },
    {
      "cell_type": "markdown",
      "metadata": {
        "id": "w9vRG99nM-UI"
      },
      "source": [
        "#Data Preprocessing"
      ]
    },
    {
      "cell_type": "markdown",
      "metadata": {
        "id": "zVxvPoFTNEUg"
      },
      "source": [
        "Splitting the training set and test set"
      ]
    },
    {
      "cell_type": "code",
      "metadata": {
        "id": "6AeT4q1CNPYM"
      },
      "source": [
        "from sklearn.model_selection import train_test_split\r\n",
        "x_train,x_test,y_train,y_test = train_test_split(x,y,test_size=0.2,random_state=0) "
      ],
      "execution_count": 47,
      "outputs": []
    },
    {
      "cell_type": "markdown",
      "metadata": {
        "id": "UmC4L0vCODuU"
      },
      "source": [
        "#Creating the ANN model"
      ]
    },
    {
      "cell_type": "markdown",
      "metadata": {
        "id": "dVcums4xOKG4"
      },
      "source": [
        "Initialization of the ANN model "
      ]
    },
    {
      "cell_type": "code",
      "metadata": {
        "id": "iM5sk-gCOSHe"
      },
      "source": [
        "ann = tf.keras.models.Sequential()"
      ],
      "execution_count": 48,
      "outputs": []
    },
    {
      "cell_type": "markdown",
      "metadata": {
        "id": "zulbXt5sOetk"
      },
      "source": [
        "Creating the 1st input layer"
      ]
    },
    {
      "cell_type": "code",
      "metadata": {
        "id": "7iH814zFOqBN"
      },
      "source": [
        "ann.add(tf.keras.layers.Dense(units=6,activation=\"relu\"))"
      ],
      "execution_count": 49,
      "outputs": []
    },
    {
      "cell_type": "markdown",
      "metadata": {
        "id": "4paTGz7QO4yK"
      },
      "source": [
        "Creating the 2nd Input layer"
      ]
    },
    {
      "cell_type": "code",
      "metadata": {
        "id": "dpm4rOzTO4FQ"
      },
      "source": [
        "ann.add(tf.keras.layers.Dense(units=6,activation=\"relu\"))"
      ],
      "execution_count": 50,
      "outputs": []
    },
    {
      "cell_type": "markdown",
      "metadata": {
        "id": "Svw2BK_8PNk8"
      },
      "source": [
        "Creating the output layer"
      ]
    },
    {
      "cell_type": "code",
      "metadata": {
        "id": "wm9_vbl8PTY6"
      },
      "source": [
        "ann.add(tf.keras.layers.Dense(units=1))"
      ],
      "execution_count": 51,
      "outputs": []
    },
    {
      "cell_type": "markdown",
      "metadata": {
        "id": "Hd8zkLO6Pe10"
      },
      "source": [
        "#Training the ANN model"
      ]
    },
    {
      "cell_type": "markdown",
      "metadata": {
        "id": "O1p_0b6DPkoM"
      },
      "source": [
        "Compiling the model"
      ]
    },
    {
      "cell_type": "code",
      "metadata": {
        "id": "MEZ8ZR7YPnk4"
      },
      "source": [
        "ann.compile(optimizer=\"adam\",loss= \"mean_squared_error\")"
      ],
      "execution_count": 52,
      "outputs": []
    },
    {
      "cell_type": "markdown",
      "metadata": {
        "id": "TA2f-rAIQLTM"
      },
      "source": [
        "Training the model"
      ]
    },
    {
      "cell_type": "code",
      "metadata": {
        "colab": {
          "base_uri": "https://localhost:8080/"
        },
        "id": "u0Snu3PHQPnt",
        "outputId": "f01c1cb8-11aa-4055-9531-31b46bc4ad6c"
      },
      "source": [
        "ann.fit(x_train,y_train,epochs=100)"
      ],
      "execution_count": 53,
      "outputs": [
        {
          "output_type": "stream",
          "text": [
            "Epoch 1/100\n",
            "240/240 [==============================] - 1s 960us/step - loss: 44956.1995\n",
            "Epoch 2/100\n",
            "240/240 [==============================] - 0s 952us/step - loss: 165.5166\n",
            "Epoch 3/100\n",
            "240/240 [==============================] - 0s 1ms/step - loss: 148.4726\n",
            "Epoch 4/100\n",
            "240/240 [==============================] - 0s 1ms/step - loss: 138.7052\n",
            "Epoch 5/100\n",
            "240/240 [==============================] - 0s 984us/step - loss: 122.1351\n",
            "Epoch 6/100\n",
            "240/240 [==============================] - 0s 1ms/step - loss: 105.8600\n",
            "Epoch 7/100\n",
            "240/240 [==============================] - 0s 1ms/step - loss: 92.3577\n",
            "Epoch 8/100\n",
            "240/240 [==============================] - 0s 993us/step - loss: 77.4591\n",
            "Epoch 9/100\n",
            "240/240 [==============================] - 0s 992us/step - loss: 65.6041\n",
            "Epoch 10/100\n",
            "240/240 [==============================] - 0s 1ms/step - loss: 54.2798\n",
            "Epoch 11/100\n",
            "240/240 [==============================] - 0s 1ms/step - loss: 47.6443\n",
            "Epoch 12/100\n",
            "240/240 [==============================] - 0s 983us/step - loss: 41.7815\n",
            "Epoch 13/100\n",
            "240/240 [==============================] - 0s 1ms/step - loss: 38.1197\n",
            "Epoch 14/100\n",
            "240/240 [==============================] - 0s 1ms/step - loss: 36.6255\n",
            "Epoch 15/100\n",
            "240/240 [==============================] - 0s 1ms/step - loss: 35.3748\n",
            "Epoch 16/100\n",
            "240/240 [==============================] - 0s 1ms/step - loss: 34.7987\n",
            "Epoch 17/100\n",
            "240/240 [==============================] - 0s 1ms/step - loss: 33.4013\n",
            "Epoch 18/100\n",
            "240/240 [==============================] - 0s 992us/step - loss: 32.9601\n",
            "Epoch 19/100\n",
            "240/240 [==============================] - 0s 1ms/step - loss: 32.5741\n",
            "Epoch 20/100\n",
            "240/240 [==============================] - 0s 975us/step - loss: 30.9525\n",
            "Epoch 21/100\n",
            "240/240 [==============================] - 0s 997us/step - loss: 30.9439\n",
            "Epoch 22/100\n",
            "240/240 [==============================] - 0s 1ms/step - loss: 31.2030\n",
            "Epoch 23/100\n",
            "240/240 [==============================] - 0s 1ms/step - loss: 30.1810\n",
            "Epoch 24/100\n",
            "240/240 [==============================] - 0s 1ms/step - loss: 29.7831\n",
            "Epoch 25/100\n",
            "240/240 [==============================] - 0s 1ms/step - loss: 29.3968\n",
            "Epoch 26/100\n",
            "240/240 [==============================] - 0s 1ms/step - loss: 29.3668\n",
            "Epoch 27/100\n",
            "240/240 [==============================] - 0s 1ms/step - loss: 29.1381\n",
            "Epoch 28/100\n",
            "240/240 [==============================] - 0s 1ms/step - loss: 28.7775\n",
            "Epoch 29/100\n",
            "240/240 [==============================] - 0s 1ms/step - loss: 27.4659\n",
            "Epoch 30/100\n",
            "240/240 [==============================] - 0s 1ms/step - loss: 27.8451\n",
            "Epoch 31/100\n",
            "240/240 [==============================] - 0s 1ms/step - loss: 29.9594\n",
            "Epoch 32/100\n",
            "240/240 [==============================] - 0s 1ms/step - loss: 28.6532\n",
            "Epoch 33/100\n",
            "240/240 [==============================] - 0s 988us/step - loss: 26.5317\n",
            "Epoch 34/100\n",
            "240/240 [==============================] - 0s 1ms/step - loss: 26.2960\n",
            "Epoch 35/100\n",
            "240/240 [==============================] - 0s 1ms/step - loss: 28.0587\n",
            "Epoch 36/100\n",
            "240/240 [==============================] - 0s 1ms/step - loss: 28.6105\n",
            "Epoch 37/100\n",
            "240/240 [==============================] - 0s 1ms/step - loss: 26.7361\n",
            "Epoch 38/100\n",
            "240/240 [==============================] - 0s 1ms/step - loss: 27.2812\n",
            "Epoch 39/100\n",
            "240/240 [==============================] - 0s 1ms/step - loss: 26.6789\n",
            "Epoch 40/100\n",
            "240/240 [==============================] - 0s 1ms/step - loss: 25.7845\n",
            "Epoch 41/100\n",
            "240/240 [==============================] - 0s 1ms/step - loss: 26.8518\n",
            "Epoch 42/100\n",
            "240/240 [==============================] - 0s 1ms/step - loss: 26.4615\n",
            "Epoch 43/100\n",
            "240/240 [==============================] - 0s 1ms/step - loss: 27.3647\n",
            "Epoch 44/100\n",
            "240/240 [==============================] - 0s 1ms/step - loss: 26.8650\n",
            "Epoch 45/100\n",
            "240/240 [==============================] - 0s 1ms/step - loss: 26.6460\n",
            "Epoch 46/100\n",
            "240/240 [==============================] - 0s 1ms/step - loss: 27.9851\n",
            "Epoch 47/100\n",
            "240/240 [==============================] - 0s 1ms/step - loss: 27.7112\n",
            "Epoch 48/100\n",
            "240/240 [==============================] - 0s 1ms/step - loss: 26.3266\n",
            "Epoch 49/100\n",
            "240/240 [==============================] - 0s 981us/step - loss: 25.7741\n",
            "Epoch 50/100\n",
            "240/240 [==============================] - 0s 985us/step - loss: 28.5935\n",
            "Epoch 51/100\n",
            "240/240 [==============================] - 0s 1ms/step - loss: 25.7747\n",
            "Epoch 52/100\n",
            "240/240 [==============================] - 0s 1ms/step - loss: 26.6522\n",
            "Epoch 53/100\n",
            "240/240 [==============================] - 0s 1ms/step - loss: 27.5488\n",
            "Epoch 54/100\n",
            "240/240 [==============================] - 0s 1ms/step - loss: 26.6664\n",
            "Epoch 55/100\n",
            "240/240 [==============================] - 0s 993us/step - loss: 27.3429\n",
            "Epoch 56/100\n",
            "240/240 [==============================] - 0s 995us/step - loss: 27.6922\n",
            "Epoch 57/100\n",
            "240/240 [==============================] - 0s 990us/step - loss: 27.4110\n",
            "Epoch 58/100\n",
            "240/240 [==============================] - 0s 1ms/step - loss: 27.2185\n",
            "Epoch 59/100\n",
            "240/240 [==============================] - 0s 1ms/step - loss: 27.4233\n",
            "Epoch 60/100\n",
            "240/240 [==============================] - 0s 1ms/step - loss: 27.1163\n",
            "Epoch 61/100\n",
            "240/240 [==============================] - 0s 1ms/step - loss: 28.0907\n",
            "Epoch 62/100\n",
            "240/240 [==============================] - 0s 980us/step - loss: 27.1798\n",
            "Epoch 63/100\n",
            "240/240 [==============================] - 0s 1ms/step - loss: 27.2440\n",
            "Epoch 64/100\n",
            "240/240 [==============================] - 0s 1ms/step - loss: 26.1683\n",
            "Epoch 65/100\n",
            "240/240 [==============================] - 0s 1ms/step - loss: 27.5333\n",
            "Epoch 66/100\n",
            "240/240 [==============================] - 0s 1ms/step - loss: 27.7658\n",
            "Epoch 67/100\n",
            "240/240 [==============================] - 0s 1ms/step - loss: 27.1818\n",
            "Epoch 68/100\n",
            "240/240 [==============================] - 0s 978us/step - loss: 27.9819\n",
            "Epoch 69/100\n",
            "240/240 [==============================] - 0s 1ms/step - loss: 27.8759\n",
            "Epoch 70/100\n",
            "240/240 [==============================] - 0s 1ms/step - loss: 27.8755\n",
            "Epoch 71/100\n",
            "240/240 [==============================] - 0s 1ms/step - loss: 25.6101\n",
            "Epoch 72/100\n",
            "240/240 [==============================] - 0s 1ms/step - loss: 27.7061\n",
            "Epoch 73/100\n",
            "240/240 [==============================] - 0s 1ms/step - loss: 27.4345\n",
            "Epoch 74/100\n",
            "240/240 [==============================] - 0s 1ms/step - loss: 28.3070\n",
            "Epoch 75/100\n",
            "240/240 [==============================] - 0s 960us/step - loss: 28.9017\n",
            "Epoch 76/100\n",
            "240/240 [==============================] - 0s 1ms/step - loss: 26.6706\n",
            "Epoch 77/100\n",
            "240/240 [==============================] - 0s 1ms/step - loss: 26.7721\n",
            "Epoch 78/100\n",
            "240/240 [==============================] - 0s 1ms/step - loss: 26.4736\n",
            "Epoch 79/100\n",
            "240/240 [==============================] - 0s 988us/step - loss: 27.5554\n",
            "Epoch 80/100\n",
            "240/240 [==============================] - 0s 1ms/step - loss: 27.2252\n",
            "Epoch 81/100\n",
            "240/240 [==============================] - 0s 1ms/step - loss: 26.1763\n",
            "Epoch 82/100\n",
            "240/240 [==============================] - 0s 1ms/step - loss: 26.6850\n",
            "Epoch 83/100\n",
            "240/240 [==============================] - 0s 1ms/step - loss: 27.5047\n",
            "Epoch 84/100\n",
            "240/240 [==============================] - 0s 1ms/step - loss: 27.9821\n",
            "Epoch 85/100\n",
            "240/240 [==============================] - 0s 1ms/step - loss: 27.2424\n",
            "Epoch 86/100\n",
            "240/240 [==============================] - 0s 1ms/step - loss: 27.1911\n",
            "Epoch 87/100\n",
            "240/240 [==============================] - 0s 1ms/step - loss: 26.0636\n",
            "Epoch 88/100\n",
            "240/240 [==============================] - 0s 1ms/step - loss: 27.9999\n",
            "Epoch 89/100\n",
            "240/240 [==============================] - 0s 1ms/step - loss: 26.2971\n",
            "Epoch 90/100\n",
            "240/240 [==============================] - 0s 1ms/step - loss: 26.2970\n",
            "Epoch 91/100\n",
            "240/240 [==============================] - 0s 1ms/step - loss: 25.9280\n",
            "Epoch 92/100\n",
            "240/240 [==============================] - 0s 1ms/step - loss: 26.6598\n",
            "Epoch 93/100\n",
            "240/240 [==============================] - 0s 1ms/step - loss: 26.5204\n",
            "Epoch 94/100\n",
            "240/240 [==============================] - 0s 1ms/step - loss: 26.8629\n",
            "Epoch 95/100\n",
            "240/240 [==============================] - 0s 1ms/step - loss: 26.8628\n",
            "Epoch 96/100\n",
            "240/240 [==============================] - 0s 1ms/step - loss: 26.7776\n",
            "Epoch 97/100\n",
            "240/240 [==============================] - 0s 1ms/step - loss: 27.8479\n",
            "Epoch 98/100\n",
            "240/240 [==============================] - 0s 1ms/step - loss: 25.9628\n",
            "Epoch 99/100\n",
            "240/240 [==============================] - 0s 1ms/step - loss: 27.7958\n",
            "Epoch 100/100\n",
            "240/240 [==============================] - 0s 1ms/step - loss: 25.6656\n"
          ],
          "name": "stdout"
        },
        {
          "output_type": "execute_result",
          "data": {
            "text/plain": [
              "<tensorflow.python.keras.callbacks.History at 0x7f53db1c2940>"
            ]
          },
          "metadata": {
            "tags": []
          },
          "execution_count": 53
        }
      ]
    },
    {
      "cell_type": "markdown",
      "metadata": {
        "id": "o3hyBHtCQ92Q"
      },
      "source": [
        "#Predicting Results"
      ]
    },
    {
      "cell_type": "code",
      "metadata": {
        "colab": {
          "base_uri": "https://localhost:8080/"
        },
        "id": "Y0jUGV8TRBG8",
        "outputId": "7fa552a9-c96b-4892-fcf8-ce59e27b0dfd"
      },
      "source": [
        "y_pred = ann.predict(x_test)\r\n",
        "np.set_printoptions(precision=2)\r\n",
        "print(np.concatenate((y_pred.reshape(len(y_pred),1),y_test.reshape(len(y_test),1)),1))"
      ],
      "execution_count": 54,
      "outputs": [
        {
          "output_type": "stream",
          "text": [
            "[[431.41 431.23]\n",
            " [462.36 460.01]\n",
            " [465.83 461.14]\n",
            " ...\n",
            " [473.09 473.26]\n",
            " [439.84 438.  ]\n",
            " [459.06 463.28]]\n"
          ],
          "name": "stdout"
        }
      ]
    },
    {
      "cell_type": "markdown",
      "metadata": {
        "id": "wtR1cthgW1oL"
      },
      "source": [
        "Calculating R2 score"
      ]
    },
    {
      "cell_type": "code",
      "metadata": {
        "colab": {
          "base_uri": "https://localhost:8080/"
        },
        "id": "yUPvOt4AWhVe",
        "outputId": "5f648ff5-66cb-4951-af72-611f6ed710c4"
      },
      "source": [
        "from sklearn.metrics import r2_score\r\n",
        "acc_ann = r2_score(y_pred,y_test)\r\n",
        "print(acc_ann)"
      ],
      "execution_count": 55,
      "outputs": [
        {
          "output_type": "stream",
          "text": [
            "0.9107937714692215\n"
          ],
          "name": "stdout"
        }
      ]
    }
  ]
}